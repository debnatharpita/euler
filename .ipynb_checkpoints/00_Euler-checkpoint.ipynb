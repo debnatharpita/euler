{
 "cells": [
  {
   "cell_type": "code",
   "execution_count": null,
   "id": "e0e688ee-63a1-4a7e-99fa-56fdfbe12314",
   "metadata": {},
   "outputs": [],
   "source": [
    "# 1\n",
    "sum(x if not (x % 5) * (x % 3) else 0 for x in range(1000))"
   ]
  },
  {
   "cell_type": "code",
   "execution_count": null,
   "id": "0508be3d-216a-48d6-9017-fa9907d2b5ce",
   "metadata": {},
   "outputs": [],
   "source": [
    "# 2\n",
    "def fibonacci_sequence():\n",
    "    x, y = 0, 1\n",
    "    while True:\n",
    "        x, y = y, x + y\n",
    "        yield y\n",
    "\n",
    "f = fibonacci_sequence()\n",
    "total = 0\n",
    "while True:\n",
    "    n = next(f)\n",
    "    if not n % 2:\n",
    "        total += n\n",
    "        \n",
    "    if n > 4_000_000:\n",
    "        break\n",
    "\n",
    "print(total)"
   ]
  },
  {
   "cell_type": "code",
   "execution_count": null,
   "id": "85e97aa7-0933-4ebb-99dc-3e36acb77c6b",
   "metadata": {},
   "outputs": [],
   "source": [
    "# 3\n",
    "import math\n",
    "\n",
    "def prime_sieve(limit):\n",
    "    sieve = [True] * (limit + 1)\n",
    "    sieve[0] = sieve[1] = False\n",
    "    for i in range(limit + 1):\n",
    "        if sieve[i]:\n",
    "            yield i\n",
    "            \n",
    "            if i <= math.floor(math.sqrt(limit)):\n",
    "                for j in range(i * i, limit + 1, i):\n",
    "                    sieve[j] = False\n",
    "                \n",
    "for n in prime_sieve(math.floor(math.sqrt(600_851_475_143))):\n",
    "    if not 600_851_475_143 % n:\n",
    "        print(n)"
   ]
  },
  {
   "cell_type": "code",
   "execution_count": null,
   "id": "429f9fae-20d8-4af7-a637-6dd01f4d0c6b",
   "metadata": {},
   "outputs": [],
   "source": [
    "# 4\n",
    "def is_palindrome(n):\n",
    "    return str(n) == ''.join(reversed(str(n)))\n",
    "\n",
    "for x in range(999, 899, -1):\n",
    "    for y in range(x - 1, 899, -1):\n",
    "        if is_palindrome(x * y):\n",
    "            print(x, y, x * y)"
   ]
  },
  {
   "cell_type": "code",
   "execution_count": null,
   "id": "c31f32fc-8f4a-442d-84f6-b7dfc2cdb684",
   "metadata": {},
   "outputs": [],
   "source": [
    "# 5\n",
    "import math\n",
    "\n",
    "def prime_factorize(n):\n",
    "    i = 2\n",
    "    while i <= n:\n",
    "        if not n % i:\n",
    "            yield i\n",
    "            n //= i\n",
    "        else:\n",
    "            i += 1\n",
    "\n",
    "def pack(l):\n",
    "    d = {}\n",
    "    for i in l:\n",
    "        d[i] = d.get(i, 0) + 1\n",
    "        \n",
    "    return d\n",
    "\n",
    "def unpack(d):\n",
    "    l = []\n",
    "    for k, v in d.items():\n",
    "        l += [k] * v\n",
    "        \n",
    "    return l\n",
    "\n",
    "def max_dict(ds):\n",
    "    m = {}\n",
    "    for d in ds:\n",
    "        for k, v in d.items():\n",
    "            m[k] = max(m.get(k, 0), v)\n",
    "    \n",
    "    return m\n",
    "\n",
    "factors = [pack(prime_factorize(x)) for x in range(1, 21)]\n",
    "math.prod(unpack(max_dict(factors)))"
   ]
  },
  {
   "cell_type": "code",
   "execution_count": null,
   "id": "9b2e0156-5fd9-488d-89c9-a2307f6a84b0",
   "metadata": {},
   "outputs": [],
   "source": [
    "# 6\n",
    "def sum_of_squares(l):\n",
    "    return sum([n * n for n in l])\n",
    "\n",
    "def square_of_sum(l):\n",
    "    return sum(l) ** 2\n",
    "\n",
    "print(square_of_sum(range(1, 101)) - sum_of_squares(range(1, 101)))"
   ]
  },
  {
   "cell_type": "code",
   "execution_count": null,
   "id": "52334fdf-f4d0-4159-ac47-937ddd2fad12",
   "metadata": {},
   "outputs": [],
   "source": [
    "# 7\n",
    "def prime_seq():\n",
    "    yield 2\n",
    "    \n",
    "    ps = [2]\n",
    "    n = 3\n",
    "    while True:\n",
    "        prime = True\n",
    "        for i in ps:\n",
    "            if not n % i:\n",
    "                prime = False\n",
    "                break\n",
    "        \n",
    "        if prime:\n",
    "            yield n\n",
    "            ps.append(n)\n",
    "            \n",
    "        n += 2\n",
    "            \n",
    "ps = prime_seq()\n",
    "for _ in range(10_000):\n",
    "    next(ps)\n",
    "\n",
    "print(next(ps))"
   ]
  },
  {
   "cell_type": "code",
   "execution_count": null,
   "id": "5bf9d3e5-a8e6-465d-8dd1-f17195892749",
   "metadata": {},
   "outputs": [],
   "source": [
    "# 8\n",
    "import math\n",
    "\n",
    "def digit(ch):\n",
    "    return ord(ch) - ord('0')\n",
    "\n",
    "with open('8.txt') as f:\n",
    "    digits = f.read().replace('\\n', '')\n",
    "\n",
    "m = 1\n",
    "for i in range(len(digits) - 12):\n",
    "    m = max(m, math.prod([digit(ch) for ch in digits[i:i + 13]]))\n",
    "    \n",
    "print(m)"
   ]
  },
  {
   "cell_type": "code",
   "execution_count": null,
   "id": "c7586d2b-52fa-4196-a262-d33936e5316a",
   "metadata": {},
   "outputs": [],
   "source": [
    "# 9\n",
    "import math\n",
    "\n",
    "for x in range(1, 250):\n",
    "    for y in range(x + 1, 500):\n",
    "        z = 1000 - (x + y)\n",
    "        if x * x + y * y == z * z:\n",
    "            print(x, y, z, math.prod([x, y, z]))"
   ]
  },
  {
   "cell_type": "code",
   "execution_count": null,
   "id": "ef19296b-3c50-42c9-99a6-dc4afa60305f",
   "metadata": {},
   "outputs": [],
   "source": [
    "# 10\n",
    "print(sum([*prime_sieve(2_000_000)]))"
   ]
  }
 ],
 "metadata": {
  "kernelspec": {
   "display_name": "Python 3 (ipykernel)",
   "language": "python",
   "name": "python3"
  },
  "language_info": {
   "codemirror_mode": {
    "name": "ipython",
    "version": 3
   },
   "file_extension": ".py",
   "mimetype": "text/x-python",
   "name": "python",
   "nbconvert_exporter": "python",
   "pygments_lexer": "ipython3",
   "version": "3.10.5"
  }
 },
 "nbformat": 4,
 "nbformat_minor": 5
}
